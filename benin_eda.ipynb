{
 "cells": [
  {
   "cell_type": "code",
   "execution_count": null,
   "id": "38bc82db",
   "metadata": {},
   "outputs": [],
   "source": [
    "import pandas as pd\n",
    "import numpy as np\n",
    "import matplotlib.pyplot as plt\n",
    "import seaborn as sns\n",
    "from scipy.stats import zscore\n",
    "\n",
    "# Load data\n",
    "df = pd.read_csv(\"data/benin.csv\")  # make sure the file is there\n",
    "df.head()\n"
   ]
  },
  {
   "cell_type": "code",
   "execution_count": null,
   "id": "a0db4b21",
   "metadata": {},
   "outputs": [],
   "source": [
    "# Summary statistics\n",
    "summary = df.describe()\n",
    "print(\"Summary Statistics:\")\n",
    "display(summary)\n",
    "\n",
    "# Missing value report\n",
    "missing = df.isna().sum()\n",
    "missing_percent = (missing / len(df)) * 100\n",
    "print(\"Columns with >5% missing:\")\n",
    "display(missing_percent[missing_percent > 5])\n"
   ]
  },
  {
   "cell_type": "code",
   "execution_count": null,
   "id": "382a0265",
   "metadata": {},
   "outputs": [],
   "source": [
    "# Columns to check for outliers\n",
    "cols_to_check = ['GHI', 'DNI', 'DHI', 'ModA', 'ModB', 'WS', 'WSgust']\n",
    "\n",
    "# Calculate Z-scores (ignoring missing values)\n",
    "z_scores = np.abs(zscore(df[cols_to_check].dropna()))\n",
    "\n",
    "# Flag rows with any column having Z > 3\n",
    "outlier_flags = (z_scores > 3).any(axis=1)\n",
    "\n",
    "# Mark in original dataframe\n",
    "df['outlier_flag'] = False\n",
    "df.loc[df[cols_to_check].dropna().index, 'outlier_flag'] = outlier_flags\n"
   ]
  },
  {
   "cell_type": "code",
   "execution_count": null,
   "id": "e027667a",
   "metadata": {},
   "outputs": [],
   "source": [
    "# Create a copy to clean\n",
    "df_clean = df.copy()\n",
    "\n",
    "# Fill missing values with column medians\n",
    "df_clean.fillna(df_clean.median(numeric_only=True), inplace=True)\n",
    "\n",
    "# Remove outlier rows\n",
    "df_clean = df_clean[df_clean['outlier_flag'] == False]\n",
    "\n",
    "# Preview cleaned data\n",
    "df_clean.head()\n"
   ]
  },
  {
   "cell_type": "code",
   "execution_count": null,
   "id": "05f92fc0",
   "metadata": {},
   "outputs": [],
   "source": [
    "# Export cleaned dataset to CSV (inside data/ folder)\n",
    "df_clean.to_csv('data/benin_clean.csv', index=False)\n",
    "\n",
    "print(\"✅ Cleaned data saved as: data/benin_clean.csv\")\n"
   ]
  },
  {
   "cell_type": "code",
   "execution_count": null,
   "id": "042bde4b",
   "metadata": {},
   "outputs": [],
   "source": [
    "df_clean['Timestamp'] = pd.to_datetime(df_clean['Timestamp'])\n",
    "\n",
    "df_clean.set_index('Timestamp')[['GHI', 'DNI', 'DHI', 'Tamb']].plot(figsize=(12, 5))\n",
    "plt.title(\"Daily Solar Measurements Over Time\")\n",
    "plt.ylabel(\"Measurement\")\n",
    "plt.xlabel(\"Time\")\n",
    "plt.grid(True)\n",
    "plt.show()\n"
   ]
  },
  {
   "cell_type": "code",
   "execution_count": null,
   "id": "87184ddf",
   "metadata": {},
   "outputs": [],
   "source": [
    "plt.figure(figsize=(8,6))\n",
    "sns.heatmap(df_clean[['GHI', 'DNI', 'DHI', 'ModA', 'ModB', 'WS', 'WSgust']].corr(), annot=True, cmap=\"coolwarm\")\n",
    "plt.title(\"Correlation Heatmap of Solar & Weather Variables\")\n",
    "plt.show()\n"
   ]
  },
  {
   "cell_type": "code",
   "execution_count": null,
   "id": "c1c7f7ff",
   "metadata": {},
   "outputs": [],
   "source": [
    "sns.boxplot(x=df['outlier_flag'], y=df['ModA'])\n",
    "plt.title(\"ModA Before (True) and After (False) Cleaning\")\n",
    "plt.xlabel(\"Outlier Flag\")\n",
    "plt.ylabel(\"ModA\")\n",
    "plt.show()\n"
   ]
  },
  {
   "cell_type": "code",
   "execution_count": null,
   "id": "e3ea470b",
   "metadata": {},
   "outputs": [],
   "source": [
    "sns.scatterplot(x='WS', y='GHI', data=df_clean)\n",
    "plt.title(\"Wind Speed vs Global Horizontal Irradiance (GHI)\")\n",
    "plt.xlabel(\"Wind Speed\")\n",
    "plt.ylabel(\"GHI\")\n",
    "plt.show()\n"
   ]
  },
  {
   "cell_type": "code",
   "execution_count": null,
   "id": "a8c82573",
   "metadata": {},
   "outputs": [],
   "source": [
    "plt.figure(figsize=(8, 5))\n",
    "sns.histplot(df_clean['GHI'], kde=True, bins=30)\n",
    "plt.title(\"Distribution of GHI Values\")\n",
    "plt.xlabel(\"GHI\")\n",
    "plt.ylabel(\"Frequency\")\n",
    "plt.show()\n"
   ]
  },
  {
   "cell_type": "code",
   "execution_count": null,
   "id": "00e79452",
   "metadata": {},
   "outputs": [],
   "source": [
    "sns.scatterplot(x='RH', y='Tamb', data=df_clean)\n",
    "plt.title(\"Humidity vs Ambient Temperature\")\n",
    "plt.xlabel(\"Relative Humidity (%)\")\n",
    "plt.ylabel(\"Temperature (°C)\")\n",
    "plt.grid(True)\n",
    "plt.show()\n"
   ]
  },
  {
   "cell_type": "code",
   "execution_count": null,
   "id": "03f990c4",
   "metadata": {},
   "outputs": [],
   "source": [
    "plt.figure(figsize=(8,6))\n",
    "plt.scatter(df_clean['GHI'], df_clean['Tamb'], s=df_clean['RH'], alpha=0.5)\n",
    "plt.title(\"GHI vs Tamb with RH as Bubble Size\")\n",
    "plt.xlabel(\"GHI\")\n",
    "plt.ylabel(\"Tamb\")\n",
    "plt.grid(True)\n",
    "plt.show()\n"
   ]
  }
 ],
 "metadata": {
  "kernelspec": {
   "display_name": "Python 3",
   "language": "python",
   "name": "python3"
  },
  "language_info": {
   "name": "python",
   "version": "3.12.6"
  }
 },
 "nbformat": 4,
 "nbformat_minor": 5
}
