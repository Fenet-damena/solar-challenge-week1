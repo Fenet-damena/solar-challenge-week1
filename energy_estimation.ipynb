{
 "cells": [
  {
   "cell_type": "code",
   "execution_count": null,
   "id": "3ec0d592",
   "metadata": {},
   "outputs": [],
   "source": [
    "import pandas as pd\n",
    "import numpy as np\n",
    "import matplotlib.pyplot as plt\n",
    "\n",
    "df = pd.read_csv(\"data/benin_clean.csv\")\n",
    "\n",
    "df.head()\n"
   ]
  },
  {
   "cell_type": "code",
   "execution_count": null,
   "id": "50f046a0",
   "metadata": {},
   "outputs": [],
   "source": [
    "panel_efficiency = 0.18   # 18%\n",
    "panel_area = 1.6          \n",
    "\n",
    "df['PV_Energy_kWh'] = (df['GHI'] * panel_area * panel_efficiency) / 1000\n",
    "\n",
    "df[['GHI', 'PV_Energy_kWh']].head()\n",
    "\n"
   ]
  },
  {
   "cell_type": "code",
   "execution_count": null,
   "id": "5914150a",
   "metadata": {},
   "outputs": [],
   "source": [
    "df['PV_Energy_kWh'].plot(figsize=(10, 5), title='Estimated PV Energy per Day')\n",
    "plt.ylabel(\"kWh\")\n",
    "plt.xlabel(\"Index (time order)\")\n",
    "plt.grid(True)\n",
    "plt.show()\n"
   ]
  }
 ],
 "metadata": {
  "language_info": {
   "name": "python"
  }
 },
 "nbformat": 4,
 "nbformat_minor": 5
}
