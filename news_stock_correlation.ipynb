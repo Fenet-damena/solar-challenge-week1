{
 "cells": [
  {
   "cell_type": "code",
   "execution_count": null,
   "id": "3b9edc18",
   "metadata": {},
   "outputs": [],
   "source": [
    "import pandas as pd\n",
    "\n",
    "news = pd.read_csv(\"data/news.csv\", parse_dates=['date'])\n",
    "stock = pd.read_csv(\"data/stock.csv\", parse_dates=['date'])\n"
   ]
  },
  {
   "cell_type": "code",
   "execution_count": null,
   "id": "225cd208",
   "metadata": {},
   "outputs": [],
   "source": [
    "news['date'] = news['date'].dt.date\n",
    "stock['date'] = stock['date'].dt.date\n",
    "\n"
   ]
  },
  {
   "cell_type": "code",
   "execution_count": null,
   "id": "f8650a97",
   "metadata": {},
   "outputs": [],
   "source": [
    "pip install textblob\n",
    "python -m textblob.download_corpora\n",
    "\n"
   ]
  },
  {
   "cell_type": "code",
   "execution_count": null,
   "id": "fe5f874e",
   "metadata": {},
   "outputs": [],
   "source": [
    "pip install textblob\n",
    "python -m textblob.download_corpora\n"
   ]
  },
  {
   "cell_type": "code",
   "execution_count": null,
   "id": "2668afba",
   "metadata": {},
   "outputs": [],
   "source": [
    "from textblob import TextBlob\n",
    "\n",
    "def get_sentiment(text):\n",
    "    return TextBlob(text).sentiment.polarity\n",
    "\n",
    "news['sentiment'] = news['headline'].apply(get_sentiment)\n"
   ]
  },
  {
   "cell_type": "code",
   "execution_count": null,
   "id": "8adf7fe4",
   "metadata": {},
   "outputs": [],
   "source": [
    "daily_sentiment = news.groupby('date')['sentiment'].mean().reset_index()\n",
    "daily_sentiment.columns = ['date', 'avg_sentiment']\n"
   ]
  },
  {
   "cell_type": "code",
   "execution_count": null,
   "id": "596e4a2e",
   "metadata": {},
   "outputs": [],
   "source": [
    "stock['daily_return'] = stock['close'].pct_change()\n",
    "stock = stock.dropna()\n"
   ]
  },
  {
   "cell_type": "code",
   "execution_count": null,
   "id": "5e5253d2",
   "metadata": {},
   "outputs": [],
   "source": [
    "merged = pd.merge(daily_sentiment, stock, on='date')\n",
    "merged.head()\n"
   ]
  },
  {
   "cell_type": "code",
   "execution_count": null,
   "id": "455098b1",
   "metadata": {},
   "outputs": [],
   "source": [
    "from scipy.stats import pearsonr\n",
    "\n",
    "corr, p_value = pearsonr(merged['avg_sentiment'], merged['daily_return'])\n",
    "print(f\"Pearson Correlation: {corr:.4f}, p-value: {p_value:.4f}\")\n"
   ]
  },
  {
   "cell_type": "code",
   "execution_count": null,
   "id": "4b0d591c",
   "metadata": {},
   "outputs": [],
   "source": [
    "import matplotlib.pyplot as plt\n",
    "import seaborn as sns\n",
    "\n",
    "sns.scatterplot(x='avg_sentiment', y='daily_return', data=merged)\n",
    "plt.title(\"Sentiment vs Daily Return\")\n",
    "plt.xlabel(\"Average Sentiment\")\n",
    "plt.ylabel(\"Daily Stock Return\")\n",
    "plt.grid(True)\n",
    "plt.show()\n"
   ]
  }
 ],
 "metadata": {
  "language_info": {
   "name": "python"
  }
 },
 "nbformat": 4,
 "nbformat_minor": 5
}
