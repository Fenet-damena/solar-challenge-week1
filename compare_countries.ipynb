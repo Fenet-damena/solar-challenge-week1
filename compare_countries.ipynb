{
 "cells": [
  {
   "cell_type": "code",
   "execution_count": null,
   "id": "cdc79295",
   "metadata": {},
   "outputs": [],
   "source": [
    "import pandas as pd\n",
    "import seaborn as sns\n",
    "import matplotlib.pyplot as plt\n",
    "from scipy import stats\n",
    "\n",
    "# Load each country's cleaned dataset\n",
    "benin = pd.read_csv(\"data/benin_clean.csv\")\n",
    "togo = pd.read_csv(\"data/togo_clean.csv\")\n",
    "sierra = pd.read_csv(\"data/sierra_clean.csv\")\n",
    "\n",
    "# Add country labels\n",
    "benin['Country'] = 'Benin'\n",
    "togo['Country'] = 'Togo'\n",
    "sierra['Country'] = 'Sierra Leone'\n",
    "\n",
    "# Combine all datasets\n",
    "df_all = pd.concat([benin, togo, sierra])\n"
   ]
  },
  {
   "cell_type": "code",
   "execution_count": null,
   "id": "d98aaad4",
   "metadata": {},
   "outputs": [],
   "source": [
    "# Boxplots of GHI, DNI, DHI by Country\n",
    "for metric in ['GHI', 'DNI', 'DHI']:\n",
    "    plt.figure(figsize=(8, 5))\n",
    "    sns.boxplot(x='Country', y=metric, data=df_all)\n",
    "    plt.title(f\"{metric} Distribution by Country\")\n",
    "    plt.xlabel(\"Country\")\n",
    "    plt.ylabel(metric)\n",
    "    plt.grid(True)\n",
    "    plt.show()\n"
   ]
  },
  {
   "cell_type": "code",
   "execution_count": null,
   "id": "4e12915c",
   "metadata": {},
   "outputs": [],
   "source": [
    "summary = df_all.groupby(\"Country\")[[\"GHI\", \"DNI\", \"DHI\"]].agg(['mean', 'median', 'std']).round(2)\n",
    "summary\n"
   ]
  },
  {
   "cell_type": "code",
   "execution_count": null,
   "id": "c041a002",
   "metadata": {},
   "outputs": [],
   "source": [
    "anova_result = stats.f_oneway(\n",
    "    benin['GHI'].dropna(),\n",
    "    togo['GHI'].dropna(),\n",
    "    sierra['GHI'].dropna()\n",
    ")\n",
    "\n",
    "print(\"ANOVA p-value for GHI:\", anova_result.pvalue)\n"
   ]
  }
 ],
 "metadata": {
  "language_info": {
   "name": "python"
  }
 },
 "nbformat": 4,
 "nbformat_minor": 5
}
